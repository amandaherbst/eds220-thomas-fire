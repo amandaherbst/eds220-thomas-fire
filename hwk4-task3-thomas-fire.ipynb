{
 "cells": [
  {
   "cell_type": "markdown",
   "id": "e7901ce1-1236-40e2-82c5-97466330ed95",
   "metadata": {},
   "source": [
    "# Title\n",
    "## Author\n",
    "Amanda Herbst\n",
    "\n",
    "**Link to github:** https://github.com/amandaherbst/eds220-thomas-fire"
   ]
  },
  {
   "cell_type": "markdown",
   "id": "db5f6e9c-1574-46d7-aec0-98b34548fc56",
   "metadata": {},
   "source": [
    "### Purpose\n",
    "\n",
    "### Highlights of Analysis\n",
    "\n",
    "### Dataset Description\n",
    "\n",
    "### References to Datasets"
   ]
  },
  {
   "cell_type": "markdown",
   "id": "aafb0abf-26eb-4a3d-bcde-37e36cca3ca4",
   "metadata": {},
   "source": [
    "## Import Libraries and Functions"
   ]
  },
  {
   "cell_type": "code",
   "execution_count": 1,
   "id": "37581ec4-ce3f-4bf1-9706-b33feb245617",
   "metadata": {
    "tags": []
   },
   "outputs": [],
   "source": [
    "# import libraries\n",
    "import os\n",
    "import pandas as pd\n",
    "import xarray as xr\n",
    "import numpy as np\n",
    "\n",
    "import geopandas as gpd\n",
    "import rioxarray as rioxr\n",
    "import matplotlib.pyplot as plt\n",
    "import matplotlib.lines as mlines"
   ]
  },
  {
   "cell_type": "markdown",
   "id": "4dfb8a58-5899-4060-b472-09b71c3eb9d0",
   "metadata": {},
   "source": [
    "## Import Data"
   ]
  },
  {
   "cell_type": "code",
   "execution_count": 2,
   "id": "51e4c02f-a72f-40db-aab9-33fe36a99f60",
   "metadata": {
    "tags": []
   },
   "outputs": [],
   "source": [
    "# read in 2017 and 2018 air quality data\n",
    "aqi_17 = pd.read_csv('https://aqs.epa.gov/aqsweb/airdata/daily_aqi_by_county_2017.zip')\n",
    "aqi_18 = pd.read_csv('https://aqs.epa.gov/aqsweb/airdata/daily_aqi_by_county_2018.zip')\n",
    "\n",
    "# import landsat raster data\n",
    "# create a file path\n",
    "landsat_fp = os.path.join(os.getcwd(),'data', 'landsat8-2018-01-26-sb-simplified.nc')\n",
    "# use file path to import raster\n",
    "landsat = rioxr.open_rasterio(landsat_fp)\n",
    "\n",
    "# import ca fire perimeters\n",
    "ca_fire = gpd.read_file('data/California_Fire_Perimeters_2017/California_Fire_Perimeters_2017.shp')"
   ]
  },
  {
   "cell_type": "markdown",
   "id": "97cbd697-b880-47f7-9083-b5ab849d9b2e",
   "metadata": {},
   "source": [
    "## Geographical context of data"
   ]
  },
  {
   "cell_type": "markdown",
   "id": "f5ea78c0-80a6-421d-8ad7-9a829527f2a9",
   "metadata": {},
   "source": [
    "## Data Exploration"
   ]
  },
  {
   "cell_type": "markdown",
   "id": "7e21200a-2b60-420b-b152-ce7eaaee01bb",
   "metadata": {},
   "source": [
    "## Analysis\n",
    "- Include subsections as necessary to guide reader through your analysis\n",
    "- Include checks to see operations worked\n",
    "- Checks must be short and informative: print specific attributes instead of running df.head() or printing entire objects."
   ]
  },
  {
   "cell_type": "markdown",
   "id": "2ae490df-8007-41ad-a4a5-6d7ff3542170",
   "metadata": {},
   "source": [
    "## Final output"
   ]
  },
  {
   "cell_type": "code",
   "execution_count": null,
   "id": "b86ae899-de9d-4589-b8b9-b0ed367660f5",
   "metadata": {},
   "outputs": [],
   "source": []
  }
 ],
 "metadata": {
  "kernelspec": {
   "display_name": "Anaconda 3 (Base)",
   "language": "python",
   "name": "base"
  },
  "language_info": {
   "codemirror_mode": {
    "name": "ipython",
    "version": 3
   },
   "file_extension": ".py",
   "mimetype": "text/x-python",
   "name": "python",
   "nbconvert_exporter": "python",
   "pygments_lexer": "ipython3",
   "version": "3.9.13"
  }
 },
 "nbformat": 4,
 "nbformat_minor": 5
}
